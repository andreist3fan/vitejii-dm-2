{
 "cells": [
  {
   "cell_type": "code",
   "execution_count": 2,
   "id": "initial_id",
   "metadata": {
    "collapsed": true,
    "ExecuteTime": {
     "end_time": "2023-12-15T10:36:12.160559600Z",
     "start_time": "2023-12-15T10:36:12.021461Z"
    }
   },
   "outputs": [],
   "source": [
    "import pandas as pd\n",
    "import numpy as np\n",
    "from tqdm import tqdm"
   ]
  },
  {
   "cell_type": "code",
   "execution_count": 3,
   "outputs": [],
   "source": [
    "train_file_path = 'lab2_train.csv'\n",
    "\n",
    "train_data = pd.read_csv(train_file_path, delimiter=',')\n",
    "\n",
    "test_file_path = 'lab2_test.csv'\n",
    "\n",
    "test_data = pd.read_csv(test_file_path, delimiter=',')\n",
    "\n",
    "# \n",
    "# # Convert Timestamp column to datetime\n",
    "# train_data['Timestamp'] = pd.to_datetime(train_data['Timestamp'], format='%d/%m/%Y %I:%M:%S %p')"
   ],
   "metadata": {
    "collapsed": false,
    "ExecuteTime": {
     "end_time": "2023-12-15T10:36:13.575320700Z",
     "start_time": "2023-12-15T10:36:13.520617500Z"
    }
   },
   "id": "e3ffab92cb7b01dd"
  },
  {
   "cell_type": "code",
   "execution_count": 4,
   "outputs": [
    {
     "data": {
      "text/plain": "       user_from_id  user_to_id  is_like is_match\n0              1136        3141    False    False\n1              2424        3174    False    False\n2              1300        3590    False    False\n3               800        2736    False    False\n4               883         437    False    False\n...             ...         ...      ...      ...\n76387          2376        3057    False    False\n76388          1163         933    False    False\n76389          2770        3324    False    False\n76390           879         785    False    False\n76391           291         470    False    False\n\n[76392 rows x 4 columns]",
      "text/html": "<div>\n<style scoped>\n    .dataframe tbody tr th:only-of-type {\n        vertical-align: middle;\n    }\n\n    .dataframe tbody tr th {\n        vertical-align: top;\n    }\n\n    .dataframe thead th {\n        text-align: right;\n    }\n</style>\n<table border=\"1\" class=\"dataframe\">\n  <thead>\n    <tr style=\"text-align: right;\">\n      <th></th>\n      <th>user_from_id</th>\n      <th>user_to_id</th>\n      <th>is_like</th>\n      <th>is_match</th>\n    </tr>\n  </thead>\n  <tbody>\n    <tr>\n      <th>0</th>\n      <td>1136</td>\n      <td>3141</td>\n      <td>False</td>\n      <td>False</td>\n    </tr>\n    <tr>\n      <th>1</th>\n      <td>2424</td>\n      <td>3174</td>\n      <td>False</td>\n      <td>False</td>\n    </tr>\n    <tr>\n      <th>2</th>\n      <td>1300</td>\n      <td>3590</td>\n      <td>False</td>\n      <td>False</td>\n    </tr>\n    <tr>\n      <th>3</th>\n      <td>800</td>\n      <td>2736</td>\n      <td>False</td>\n      <td>False</td>\n    </tr>\n    <tr>\n      <th>4</th>\n      <td>883</td>\n      <td>437</td>\n      <td>False</td>\n      <td>False</td>\n    </tr>\n    <tr>\n      <th>...</th>\n      <td>...</td>\n      <td>...</td>\n      <td>...</td>\n      <td>...</td>\n    </tr>\n    <tr>\n      <th>76387</th>\n      <td>2376</td>\n      <td>3057</td>\n      <td>False</td>\n      <td>False</td>\n    </tr>\n    <tr>\n      <th>76388</th>\n      <td>1163</td>\n      <td>933</td>\n      <td>False</td>\n      <td>False</td>\n    </tr>\n    <tr>\n      <th>76389</th>\n      <td>2770</td>\n      <td>3324</td>\n      <td>False</td>\n      <td>False</td>\n    </tr>\n    <tr>\n      <th>76390</th>\n      <td>879</td>\n      <td>785</td>\n      <td>False</td>\n      <td>False</td>\n    </tr>\n    <tr>\n      <th>76391</th>\n      <td>291</td>\n      <td>470</td>\n      <td>False</td>\n      <td>False</td>\n    </tr>\n  </tbody>\n</table>\n<p>76392 rows × 4 columns</p>\n</div>"
     },
     "execution_count": 4,
     "metadata": {},
     "output_type": "execute_result"
    }
   ],
   "source": [
    "train_data"
   ],
   "metadata": {
    "collapsed": false,
    "ExecuteTime": {
     "end_time": "2023-12-15T10:36:15.912656900Z",
     "start_time": "2023-12-15T10:36:15.870120800Z"
    }
   },
   "id": "273a075ac5a164cd"
  },
  {
   "cell_type": "code",
   "execution_count": 5,
   "outputs": [
    {
     "data": {
      "text/plain": "       user_from_id  user_to_id is_like is_match\n0              2644        2595       ?        ?\n1               567        2412       ?        ?\n2              2732        3187       ?        ?\n3               783         854       ?        ?\n4              1104        2723       ?        ?\n...             ...         ...     ...      ...\n16198          2197        1449       ?        ?\n16199          2507         316       ?        ?\n16200           511         889       ?        ?\n16201          2148        2947       ?        ?\n16202          1421          91       ?        ?\n\n[16203 rows x 4 columns]",
      "text/html": "<div>\n<style scoped>\n    .dataframe tbody tr th:only-of-type {\n        vertical-align: middle;\n    }\n\n    .dataframe tbody tr th {\n        vertical-align: top;\n    }\n\n    .dataframe thead th {\n        text-align: right;\n    }\n</style>\n<table border=\"1\" class=\"dataframe\">\n  <thead>\n    <tr style=\"text-align: right;\">\n      <th></th>\n      <th>user_from_id</th>\n      <th>user_to_id</th>\n      <th>is_like</th>\n      <th>is_match</th>\n    </tr>\n  </thead>\n  <tbody>\n    <tr>\n      <th>0</th>\n      <td>2644</td>\n      <td>2595</td>\n      <td>?</td>\n      <td>?</td>\n    </tr>\n    <tr>\n      <th>1</th>\n      <td>567</td>\n      <td>2412</td>\n      <td>?</td>\n      <td>?</td>\n    </tr>\n    <tr>\n      <th>2</th>\n      <td>2732</td>\n      <td>3187</td>\n      <td>?</td>\n      <td>?</td>\n    </tr>\n    <tr>\n      <th>3</th>\n      <td>783</td>\n      <td>854</td>\n      <td>?</td>\n      <td>?</td>\n    </tr>\n    <tr>\n      <th>4</th>\n      <td>1104</td>\n      <td>2723</td>\n      <td>?</td>\n      <td>?</td>\n    </tr>\n    <tr>\n      <th>...</th>\n      <td>...</td>\n      <td>...</td>\n      <td>...</td>\n      <td>...</td>\n    </tr>\n    <tr>\n      <th>16198</th>\n      <td>2197</td>\n      <td>1449</td>\n      <td>?</td>\n      <td>?</td>\n    </tr>\n    <tr>\n      <th>16199</th>\n      <td>2507</td>\n      <td>316</td>\n      <td>?</td>\n      <td>?</td>\n    </tr>\n    <tr>\n      <th>16200</th>\n      <td>511</td>\n      <td>889</td>\n      <td>?</td>\n      <td>?</td>\n    </tr>\n    <tr>\n      <th>16201</th>\n      <td>2148</td>\n      <td>2947</td>\n      <td>?</td>\n      <td>?</td>\n    </tr>\n    <tr>\n      <th>16202</th>\n      <td>1421</td>\n      <td>91</td>\n      <td>?</td>\n      <td>?</td>\n    </tr>\n  </tbody>\n</table>\n<p>16203 rows × 4 columns</p>\n</div>"
     },
     "execution_count": 5,
     "metadata": {},
     "output_type": "execute_result"
    }
   ],
   "source": [
    "test_data"
   ],
   "metadata": {
    "collapsed": false,
    "ExecuteTime": {
     "end_time": "2023-12-15T10:36:30.400693900Z",
     "start_time": "2023-12-15T10:36:30.330728200Z"
    }
   },
   "id": "b2059afcca376657"
  },
  {
   "cell_type": "code",
   "execution_count": null,
   "outputs": [],
   "source": [],
   "metadata": {
    "collapsed": false
   },
   "id": "ae9f91a23a679d8a"
  }
 ],
 "metadata": {
  "kernelspec": {
   "display_name": "Python 3",
   "language": "python",
   "name": "python3"
  },
  "language_info": {
   "codemirror_mode": {
    "name": "ipython",
    "version": 2
   },
   "file_extension": ".py",
   "mimetype": "text/x-python",
   "name": "python",
   "nbconvert_exporter": "python",
   "pygments_lexer": "ipython2",
   "version": "2.7.6"
  }
 },
 "nbformat": 4,
 "nbformat_minor": 5
}
